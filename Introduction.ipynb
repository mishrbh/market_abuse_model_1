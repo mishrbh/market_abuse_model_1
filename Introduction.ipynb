{
 "cells": [
  {
   "cell_type": "markdown",
   "id": "b14830c4",
   "metadata": {},
   "source": [
    "#### This project aims towards identifying the potential market abuse activities in Securities Market "
   ]
  },
  {
   "cell_type": "code",
   "execution_count": null,
   "id": "2a5bf2dd",
   "metadata": {},
   "outputs": [],
   "source": [
    "# Data Input"
   ]
  },
  {
   "cell_type": "code",
   "execution_count": null,
   "id": "cb28e33f",
   "metadata": {},
   "outputs": [],
   "source": [
    "# Data Analysis"
   ]
  },
  {
   "cell_type": "code",
   "execution_count": null,
   "id": "4309177c",
   "metadata": {},
   "outputs": [],
   "source": [
    "# Model Development"
   ]
  },
  {
   "cell_type": "code",
   "execution_count": null,
   "id": "6cee0574",
   "metadata": {},
   "outputs": [],
   "source": [
    "# Model evaluation"
   ]
  }
 ],
 "metadata": {
  "kernelspec": {
   "display_name": "Python 3 (ipykernel)",
   "language": "python",
   "name": "python3"
  },
  "language_info": {
   "codemirror_mode": {
    "name": "ipython",
    "version": 3
   },
   "file_extension": ".py",
   "mimetype": "text/x-python",
   "name": "python",
   "nbconvert_exporter": "python",
   "pygments_lexer": "ipython3",
   "version": "3.9.12"
  }
 },
 "nbformat": 4,
 "nbformat_minor": 5
}
